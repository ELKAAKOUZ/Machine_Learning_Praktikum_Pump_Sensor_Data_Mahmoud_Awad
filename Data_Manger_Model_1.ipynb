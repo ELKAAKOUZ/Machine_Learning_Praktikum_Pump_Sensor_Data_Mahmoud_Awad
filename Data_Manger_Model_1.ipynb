{
  "cells": [
    {
      "cell_type": "code",
      "execution_count": 2,
      "metadata": {
        "id": "2hK3hZ9ESBqM"
      },
      "outputs": [],
      "source": [
        "import pandas as pd\n",
        "import numpy as np\n",
        "import torch\n",
        "from sklearn.model_selection import train_test_split\n",
        "import torch.nn.functional as F\n",
        "# from torch_geometric.data import Data\n",
        "import matplotlib.pyplot as plt\n",
        "from scipy.spatial.distance import mahalanobis\n",
        "from sklearn.preprocessing import StandardScaler\n",
        "\n",
        "# Load the data from the CSV file\n",
        "df = pd.read_csv('sensor.csv')\n"
      ]
    },
    {
      "cell_type": "code",
      "execution_count": 4,
      "metadata": {
        "colab": {
          "base_uri": "https://localhost:8080/"
        },
        "id": "hsjIzhdsSBqQ",
        "outputId": "38ce6285-df92-4f49-bb0e-8612b7046570"
      },
      "outputs": [
        {
          "name": "stdout",
          "output_type": "stream",
          "text": [
            "<class 'pandas.core.frame.DataFrame'>\n",
            "RangeIndex: 220320 entries, 0 to 220319\n",
            "Data columns (total 55 columns):\n",
            " #   Column          Non-Null Count   Dtype  \n",
            "---  ------          --------------   -----  \n",
            " 0   Unnamed: 0      220320 non-null  int64  \n",
            " 1   timestamp       220320 non-null  object \n",
            " 2   sensor_00       210112 non-null  float64\n",
            " 3   sensor_01       219951 non-null  float64\n",
            " 4   sensor_02       220301 non-null  float64\n",
            " 5   sensor_03       220301 non-null  float64\n",
            " 6   sensor_04       220301 non-null  float64\n",
            " 7   sensor_05       220301 non-null  float64\n",
            " 8   sensor_06       215522 non-null  float64\n",
            " 9   sensor_07       214869 non-null  float64\n",
            " 10  sensor_08       215213 non-null  float64\n",
            " 11  sensor_09       215725 non-null  float64\n",
            " 12  sensor_10       220301 non-null  float64\n",
            " 13  sensor_11       220301 non-null  float64\n",
            " 14  sensor_12       220301 non-null  float64\n",
            " 15  sensor_13       220301 non-null  float64\n",
            " 16  sensor_14       220299 non-null  float64\n",
            " 17  sensor_15       0 non-null       float64\n",
            " 18  sensor_16       220289 non-null  float64\n",
            " 19  sensor_17       220274 non-null  float64\n",
            " 20  sensor_18       220274 non-null  float64\n",
            " 21  sensor_19       220304 non-null  float64\n",
            " 22  sensor_20       220304 non-null  float64\n",
            " 23  sensor_21       220304 non-null  float64\n",
            " 24  sensor_22       220279 non-null  float64\n",
            " 25  sensor_23       220304 non-null  float64\n",
            " 26  sensor_24       220304 non-null  float64\n",
            " 27  sensor_25       220284 non-null  float64\n",
            " 28  sensor_26       220300 non-null  float64\n",
            " 29  sensor_27       220304 non-null  float64\n",
            " 30  sensor_28       220304 non-null  float64\n",
            " 31  sensor_29       220248 non-null  float64\n",
            " 32  sensor_30       220059 non-null  float64\n",
            " 33  sensor_31       220304 non-null  float64\n",
            " 34  sensor_32       220252 non-null  float64\n",
            " 35  sensor_33       220304 non-null  float64\n",
            " 36  sensor_34       220304 non-null  float64\n",
            " 37  sensor_35       220304 non-null  float64\n",
            " 38  sensor_36       220304 non-null  float64\n",
            " 39  sensor_37       220304 non-null  float64\n",
            " 40  sensor_38       220293 non-null  float64\n",
            " 41  sensor_39       220293 non-null  float64\n",
            " 42  sensor_40       220293 non-null  float64\n",
            " 43  sensor_41       220293 non-null  float64\n",
            " 44  sensor_42       220293 non-null  float64\n",
            " 45  sensor_43       220293 non-null  float64\n",
            " 46  sensor_44       220293 non-null  float64\n",
            " 47  sensor_45       220293 non-null  float64\n",
            " 48  sensor_46       220293 non-null  float64\n",
            " 49  sensor_47       220293 non-null  float64\n",
            " 50  sensor_48       220293 non-null  float64\n",
            " 51  sensor_49       220293 non-null  float64\n",
            " 52  sensor_50       143303 non-null  float64\n",
            " 53  sensor_51       204937 non-null  float64\n",
            " 54  machine_status  220320 non-null  object \n",
            "dtypes: float64(52), int64(1), object(2)\n",
            "memory usage: 92.5+ MB\n"
          ]
        }
      ],
      "source": [
        "df.info()"
      ]
    },
    {
      "cell_type": "code",
      "execution_count": 5,
      "metadata": {
        "colab": {
          "base_uri": "https://localhost:8080/"
        },
        "id": "v9H8hxMYSBqR",
        "outputId": "79b06609-f22c-4a94-e2df-c7515b95214e"
      },
      "outputs": [
        {
          "name": "stderr",
          "output_type": "stream",
          "text": [
            "/var/folders/4_/43c1czgs17s2s8z18wlcyc540000gn/T/ipykernel_6139/976719905.py:6: FutureWarning: The default value of numeric_only in DataFrame.mean is deprecated. In a future version, it will default to False. In addition, specifying 'numeric_only=None' is deprecated. Select only valid columns or specify the value of numeric_only to silence this warning.\n",
            "  df = df.fillna(df.mean())\n"
          ]
        }
      ],
      "source": [
        "df=df.drop(\"sensor_15\",axis=1)\n",
        "\n",
        "# Drop duplicates\n",
        "df = df.drop_duplicates()\n",
        "\n",
        "df = df.fillna(df.mean())"
      ]
    },
    {
      "cell_type": "code",
      "execution_count": 6,
      "metadata": {
        "colab": {
          "base_uri": "https://localhost:8080/"
        },
        "id": "NhhVHKaLSBqS",
        "outputId": "62c24996-9686-4059-84d1-c0de5b68f888"
      },
      "outputs": [
        {
          "name": "stdout",
          "output_type": "stream",
          "text": [
            "<class 'pandas.core.frame.DataFrame'>\n",
            "Int64Index: 220320 entries, 0 to 220319\n",
            "Data columns (total 54 columns):\n",
            " #   Column          Non-Null Count   Dtype  \n",
            "---  ------          --------------   -----  \n",
            " 0   Unnamed: 0      220320 non-null  int64  \n",
            " 1   timestamp       220320 non-null  object \n",
            " 2   sensor_00       220320 non-null  float64\n",
            " 3   sensor_01       220320 non-null  float64\n",
            " 4   sensor_02       220320 non-null  float64\n",
            " 5   sensor_03       220320 non-null  float64\n",
            " 6   sensor_04       220320 non-null  float64\n",
            " 7   sensor_05       220320 non-null  float64\n",
            " 8   sensor_06       220320 non-null  float64\n",
            " 9   sensor_07       220320 non-null  float64\n",
            " 10  sensor_08       220320 non-null  float64\n",
            " 11  sensor_09       220320 non-null  float64\n",
            " 12  sensor_10       220320 non-null  float64\n",
            " 13  sensor_11       220320 non-null  float64\n",
            " 14  sensor_12       220320 non-null  float64\n",
            " 15  sensor_13       220320 non-null  float64\n",
            " 16  sensor_14       220320 non-null  float64\n",
            " 17  sensor_16       220320 non-null  float64\n",
            " 18  sensor_17       220320 non-null  float64\n",
            " 19  sensor_18       220320 non-null  float64\n",
            " 20  sensor_19       220320 non-null  float64\n",
            " 21  sensor_20       220320 non-null  float64\n",
            " 22  sensor_21       220320 non-null  float64\n",
            " 23  sensor_22       220320 non-null  float64\n",
            " 24  sensor_23       220320 non-null  float64\n",
            " 25  sensor_24       220320 non-null  float64\n",
            " 26  sensor_25       220320 non-null  float64\n",
            " 27  sensor_26       220320 non-null  float64\n",
            " 28  sensor_27       220320 non-null  float64\n",
            " 29  sensor_28       220320 non-null  float64\n",
            " 30  sensor_29       220320 non-null  float64\n",
            " 31  sensor_30       220320 non-null  float64\n",
            " 32  sensor_31       220320 non-null  float64\n",
            " 33  sensor_32       220320 non-null  float64\n",
            " 34  sensor_33       220320 non-null  float64\n",
            " 35  sensor_34       220320 non-null  float64\n",
            " 36  sensor_35       220320 non-null  float64\n",
            " 37  sensor_36       220320 non-null  float64\n",
            " 38  sensor_37       220320 non-null  float64\n",
            " 39  sensor_38       220320 non-null  float64\n",
            " 40  sensor_39       220320 non-null  float64\n",
            " 41  sensor_40       220320 non-null  float64\n",
            " 42  sensor_41       220320 non-null  float64\n",
            " 43  sensor_42       220320 non-null  float64\n",
            " 44  sensor_43       220320 non-null  float64\n",
            " 45  sensor_44       220320 non-null  float64\n",
            " 46  sensor_45       220320 non-null  float64\n",
            " 47  sensor_46       220320 non-null  float64\n",
            " 48  sensor_47       220320 non-null  float64\n",
            " 49  sensor_48       220320 non-null  float64\n",
            " 50  sensor_49       220320 non-null  float64\n",
            " 51  sensor_50       220320 non-null  float64\n",
            " 52  sensor_51       220320 non-null  float64\n",
            " 53  machine_status  220320 non-null  object \n",
            "dtypes: float64(51), int64(1), object(2)\n",
            "memory usage: 92.4+ MB\n"
          ]
        }
      ],
      "source": [
        "df.info()"
      ]
    },
    {
      "cell_type": "code",
      "execution_count": 7,
      "metadata": {
        "id": "6SU_hn_ASBqS"
      },
      "outputs": [],
      "source": [
        "# Define the mapping of machine_status categories to numeric labels\n",
        "label_mapping = {'NORMAL': 0, 'BROKEN': 1, 'RECOVERING': 2}\n",
        "\n",
        "# Convert machine_status column to numeric labels\n",
        "df['label'] = df['machine_status'].map(label_mapping)\n",
        "\n",
        "# Calculate the mean of each sensor reading\n",
        "# sensor_columns = df.columns[2:-1]  # Exclude the timestamp and machine_status columns\n",
        "# mean_values = df[sensor_columns].mean()\n",
        "\n",
        "# Let's convert the data type of timestamp column to datetime format\n",
        "df['date'] = pd.to_datetime(df['timestamp'])\n",
        "del df['timestamp']\n",
        "\n",
        "df_d=df.drop([\"date\",\"Unnamed: 0\",\"machine_status\"],axis=1)\n",
        "\n",
        "# Select only columns with numeric data types\n",
        "# X = df.select_dtypes(include=[float])"
      ]
    },
    {
      "cell_type": "code",
      "execution_count": 8,
      "metadata": {
        "colab": {
          "base_uri": "https://localhost:8080/"
        },
        "id": "bBACRnuTSBqT",
        "outputId": "f1e02421-a00f-41e7-8f84-37a4c3a90c01"
      },
      "outputs": [
        {
          "data": {
            "text/plain": [
              "Index(['sensor_00', 'sensor_01', 'sensor_02', 'sensor_03', 'sensor_04',\n",
              "       'sensor_05', 'sensor_06', 'sensor_07', 'sensor_08', 'sensor_09',\n",
              "       'sensor_10', 'sensor_11', 'sensor_12', 'sensor_13', 'sensor_14',\n",
              "       'sensor_16', 'sensor_17', 'sensor_18', 'sensor_19', 'sensor_20',\n",
              "       'sensor_21', 'sensor_22', 'sensor_23', 'sensor_24', 'sensor_25',\n",
              "       'sensor_26', 'sensor_27', 'sensor_28', 'sensor_29', 'sensor_30',\n",
              "       'sensor_31', 'sensor_32', 'sensor_33', 'sensor_34', 'sensor_35',\n",
              "       'sensor_36', 'sensor_37', 'sensor_38', 'sensor_39', 'sensor_40',\n",
              "       'sensor_41', 'sensor_42', 'sensor_43', 'sensor_44', 'sensor_45',\n",
              "       'sensor_46', 'sensor_47', 'sensor_48', 'sensor_49', 'sensor_50',\n",
              "       'sensor_51', 'label'],\n",
              "      dtype='object')"
            ]
          },
          "execution_count": 8,
          "metadata": {},
          "output_type": "execute_result"
        }
      ],
      "source": [
        "df_d.columns"
      ]
    },
    {
      "cell_type": "code",
      "execution_count": null,
      "metadata": {
        "id": "7rkN3cUrSBqU"
      },
      "outputs": [],
      "source": []
    },
    {
      "cell_type": "code",
      "execution_count": 9,
      "metadata": {
        "id": "Ocl3c3zYSBqU"
      },
      "outputs": [],
      "source": [
        "\n",
        "\n",
        "# Split the data into training, validation, and testing subsets\n",
        "train_end_index = int(len(df_d) * 0.5)  # 50% for training\n",
        "valid_end_index = int(len(df_d) * 0.9)  # 40% for validation, remaining for testing\n",
        "\n",
        "train_data = df_d[:train_end_index]\n",
        "valid_data = df_d[train_end_index:valid_end_index]\n",
        "test_data = df_d[valid_end_index:]\n"
      ]
    },
    {
      "cell_type": "code",
      "execution_count": 10,
      "metadata": {
        "colab": {
          "base_uri": "https://localhost:8080/"
        },
        "id": "4WzBQC4rSBqV",
        "outputId": "f1ece14a-bb60-4ff2-c466-06219d8fba6a"
      },
      "outputs": [
        {
          "data": {
            "text/plain": [
              "(110160, 88128, 22032)"
            ]
          },
          "execution_count": 10,
          "metadata": {},
          "output_type": "execute_result"
        }
      ],
      "source": [
        "len(train_data), len(valid_data), len(test_data)"
      ]
    },
    {
      "cell_type": "code",
      "execution_count": 11,
      "metadata": {
        "id": "3NzYcliMSBqV"
      },
      "outputs": [
        {
          "name": "stderr",
          "output_type": "stream",
          "text": [
            "/var/folders/4_/43c1czgs17s2s8z18wlcyc540000gn/T/ipykernel_6139/1161557762.py:5: SettingWithCopyWarning: \n",
            "A value is trying to be set on a copy of a slice from a DataFrame\n",
            "\n",
            "See the caveats in the documentation: https://pandas.pydata.org/pandas-docs/stable/user_guide/indexing.html#returning-a-view-versus-a-copy\n",
            "  train_data.drop(\"label\",axis=1,inplace=True)\n",
            "/var/folders/4_/43c1czgs17s2s8z18wlcyc540000gn/T/ipykernel_6139/1161557762.py:6: SettingWithCopyWarning: \n",
            "A value is trying to be set on a copy of a slice from a DataFrame\n",
            "\n",
            "See the caveats in the documentation: https://pandas.pydata.org/pandas-docs/stable/user_guide/indexing.html#returning-a-view-versus-a-copy\n",
            "  valid_data.drop(\"label\",axis=1,inplace=True)\n",
            "/var/folders/4_/43c1czgs17s2s8z18wlcyc540000gn/T/ipykernel_6139/1161557762.py:7: SettingWithCopyWarning: \n",
            "A value is trying to be set on a copy of a slice from a DataFrame\n",
            "\n",
            "See the caveats in the documentation: https://pandas.pydata.org/pandas-docs/stable/user_guide/indexing.html#returning-a-view-versus-a-copy\n",
            "  test_data.drop(\"label\",axis=1,inplace=True)\n"
          ]
        }
      ],
      "source": [
        "y_train=train_data['label'].values\n",
        "y_valid=valid_data['label'].values\n",
        "y_test=test_data['label'].values\n",
        "\n",
        "train_data.drop(\"label\",axis=1,inplace=True)\n",
        "valid_data.drop(\"label\",axis=1,inplace=True)\n",
        "test_data.drop(\"label\",axis=1,inplace=True)\n",
        "# train_labels = train_labels.long()\n",
        "# Convert the training, validation, and testing dataframes to tensors\n",
        "\n",
        "\n",
        "# Preprocess the data\n",
        "scaler = StandardScaler()\n",
        "x_train = scaler.fit_transform(train_data)\n",
        "x_valid = scaler.transform(valid_data)\n",
        "x_test = scaler.transform(test_data)\n",
        "\n",
        "# Convert the preprocessed data to PyTorch tensors\n",
        "x_train = torch.tensor(x_train, dtype=torch.float32)\n",
        "x_valid = torch.tensor(x_valid, dtype=torch.float32)\n",
        "x_test = torch.tensor(x_test, dtype=torch.float32)\n",
        "\n",
        "y_train=torch.tensor(y_train,dtype=torch.long)\n",
        "y_valid=torch.tensor(y_valid,dtype=torch.long)\n",
        "y_test=torch.tensor(y_test,dtype=torch.long)\n"
      ]
    },
    {
      "cell_type": "code",
      "execution_count": 12,
      "metadata": {
        "colab": {
          "base_uri": "https://localhost:8080/"
        },
        "id": "eQi5ZuOOSBqW",
        "outputId": "35209f98-89c0-475d-8a85-eb0eb942f972"
      },
      "outputs": [
        {
          "data": {
            "text/plain": [
              "torch.Size([110160, 51])"
            ]
          },
          "execution_count": 12,
          "metadata": {},
          "output_type": "execute_result"
        }
      ],
      "source": [
        "x_train.shape"
      ]
    },
    {
      "cell_type": "code",
      "execution_count": 13,
      "metadata": {
        "colab": {
          "base_uri": "https://localhost:8080/"
        },
        "id": "0ruQ4OmVgm15",
        "outputId": "e2a4a87e-e982-4c9d-f8e6-d3dc0ce97a5a"
      },
      "outputs": [
        {
          "data": {
            "text/plain": [
              "0    205836\n",
              "2     14477\n",
              "1         7\n",
              "Name: label, dtype: int64"
            ]
          },
          "execution_count": 13,
          "metadata": {},
          "output_type": "execute_result"
        }
      ],
      "source": [
        "df_d['label'].value_counts()"
      ]
    },
    {
      "cell_type": "code",
      "execution_count": 14,
      "metadata": {
        "colab": {
          "base_uri": "https://localhost:8080/"
        },
        "id": "4yRG5acvXzYq",
        "outputId": "098d2a1f-d190-4b2e-89f8-2cada1ca522d"
      },
      "outputs": [
        {
          "name": "stdout",
          "output_type": "stream",
          "text": [
            "Epoch [50/500], Loss: 0.0118417413493551\n",
            "Epoch [100/500], Loss: 0.007616562328341165\n",
            "Epoch [150/500], Loss: 0.009782342277927097\n",
            "Epoch [200/500], Loss: 0.028477835686544457\n",
            "Epoch [250/500], Loss: 0.03827745568417182\n",
            "Epoch [300/500], Loss: 0.008702781128359684\n",
            "Epoch [350/500], Loss: 0.023818801225044824\n",
            "Epoch [400/500], Loss: 0.014002390148992575\n",
            "Epoch [450/500], Loss: 0.009708657409004569\n",
            "Epoch [500/500], Loss: 0.004186744340487731\n"
          ]
        }
      ],
      "source": [
        "import torch\n",
        "import torch.nn as nn\n",
        "import torchvision\n",
        "import torch.utils.data as data \n",
        "import torchvision.transforms as transforms\n",
        "import matplotlib.pyplot as plt\n",
        "\n",
        "# Device configuration\n",
        "device = torch.device('cuda' if torch.cuda.is_available() else 'cpu')\n",
        "\n",
        "# Hyper-parameters\n",
        "input_size =  x_train.shape[1]\n",
        "# hidden_size = 100\n",
        "hidden_size1 = 64\n",
        "hidden_size2 = 64\n",
        "num_classes = 3\n",
        "num_epochs = 500\n",
        "batch_size = 100\n",
        "learning_rate = 0.01\n",
        "\n",
        "\n",
        "\n",
        "train_dataset =data.TensorDataset(x_train, y_train)\n",
        "train_loader =data.DataLoader(train_dataset, batch_size=batch_size, shuffle=True)\n",
        "\n",
        "valid_dataset =data.TensorDataset(x_valid, y_valid)\n",
        "valid_loader =data.DataLoader(valid_dataset, batch_size=batch_size, shuffle=False)\n",
        "\n",
        "test_dataset =data.TensorDataset(x_test, y_test)\n",
        "test_loader =data.DataLoader(test_dataset, batch_size=batch_size, shuffle=False)\n",
        "\n",
        "# Fully connected neural network with one hidden layer\n",
        "class NeuralNet(nn.Module):\n",
        "    def __init__(self, input_size, hidden_size1, hidden_size2, num_classes):\n",
        "        super(NeuralNet, self).__init__()\n",
        "        self.input_size = input_size\n",
        "        self.l1 = nn.Linear(input_size, hidden_size1)\n",
        "        self.relu1 = nn.ReLU()\n",
        "        self.l2 = nn.Linear(hidden_size1, hidden_size2)\n",
        "        self.relu2 = nn.ReLU()\n",
        "        self.l3 = nn.Linear(hidden_size2, num_classes)\n",
        "        self.dropout1=nn.Dropout(0.5)\n",
        "        self.dropout2=nn.Dropout(0.5)\n",
        "        #self.softmax = nn.Softmax(dim=1)\n",
        "\n",
        "    def forward(self, x):\n",
        "        out = self.l1(x)\n",
        "        out = self.relu1(out)\n",
        "        out = self.dropout1(out)\n",
        "        out = self.l2(out)\n",
        "        out = self.relu2(out)\n",
        "        out = self.dropout2(out)\n",
        "        out = self.l3(out)\n",
        "        #out = self.softmax(out)\n",
        "        return out\n",
        "\n",
        "model = NeuralNet(input_size, hidden_size1, hidden_size2, num_classes).to(device)\n",
        "\n",
        "\n",
        "# Loss and optimizer\n",
        "criterion = nn.CrossEntropyLoss()\n",
        "\n",
        "optimizer = torch.optim.Adam(model.parameters(), lr=learning_rate)\n",
        "\n",
        "# Train the model\n",
        "n_total_steps = len(train_loader)\n",
        "for epoch in range(num_epochs):\n",
        "    total_loss=0\n",
        "    model.train()\n",
        "    for i, (X_batch, sample_labels) in enumerate(train_loader):\n",
        "        (X_batch,sample_labels)=X_batch.to(device),sample_labels.to(device)\n",
        "        \n",
        "       \n",
        "        # Forward pass\n",
        "        outputs = model(X_batch)\n",
        "        # print(outputs)\n",
        "        loss = criterion(outputs, sample_labels)\n",
        "\n",
        "\n",
        "        # Backward and optimize\n",
        "        # optimizer.zero_grad()\n",
        "        loss.backward()\n",
        "        optimizer.step()\n",
        "        optimizer.zero_grad()\n",
        "        #accumlate loss\n",
        "        total_loss +=loss.item()\n",
        "\n",
        "    # Print the training loss for each epoch\n",
        "    if (epoch + 1) % 50 ==0 :\n",
        "       print(f\"Epoch [{epoch+1}/{num_epochs}], Loss: {total_loss / len(train_loader)}\")\n",
        "\n",
        "\n",
        "       \n"
      ]
    },
    {
      "cell_type": "code",
      "execution_count": 98,
      "metadata": {
        "colab": {
          "base_uri": "https://localhost:8080/"
        },
        "id": "ZvGhpwu_UiKD",
        "outputId": "cb1525cd-7a2d-4073-9c24-4de3d82bffb0"
      },
      "outputs": [
        {
          "name": "stdout",
          "output_type": "stream",
          "text": [
            "Accuracy of the network on the test set: 99.93645606390704 %\n"
          ]
        }
      ],
      "source": [
        "# Test the model\n",
        "with torch.no_grad():\n",
        "    n_correct = 0\n",
        "    n_samples = 0\n",
        "    for X_batch, labels in test_loader:\n",
        "        X_batch = X_batch.to(device)\n",
        "        labels = labels.to(device)\n",
        "        outputs = model(X_batch)\n",
        "        # max returns (value ,index)\n",
        "        _, predicted = torch.max(outputs.data, 1)\n",
        "        n_samples += labels.size(0)\n",
        "        n_correct += (predicted == labels).sum().item()\n",
        "\n",
        "    acc = 100.0 * n_correct / n_samples\n",
        "    print(f'Accuracy of the network on the test set: {acc} %')"
      ]
    },
    {
      "cell_type": "code",
      "execution_count": 15,
      "metadata": {},
      "outputs": [
        {
          "name": "stdout",
          "output_type": "stream",
          "text": [
            "F1 Score: 0.6380771577683327\n",
            "Balanced Accuracy: 0.6338921582293372\n",
            "Recall: 0.6338921582293372\n",
            "Precision: 0.6424144704144154\n"
          ]
        },
        {
          "name": "stderr",
          "output_type": "stream",
          "text": [
            "/Users/mahmoud/anaconda3/lib/python3.10/site-packages/sklearn/metrics/_classification.py:1344: UndefinedMetricWarning: Precision is ill-defined and being set to 0.0 in labels with no predicted samples. Use `zero_division` parameter to control this behavior.\n",
            "  _warn_prf(average, modifier, msg_start, len(result))\n"
          ]
        }
      ],
      "source": [
        "from sklearn.metrics import f1_score, balanced_accuracy_score, recall_score, precision_score, confusion_matrix\n",
        "\n",
        "# 5. Model Evaluation\n",
        "\n",
        "model.eval()  # set the model to evaluation mode\n",
        "\n",
        "y_true = []\n",
        "y_pred = []\n",
        "\n",
        "with torch.no_grad():\n",
        "    for data, label in valid_loader:\n",
        "        data, label = data.to(device), label.to(device)\n",
        "        \n",
        "        outputs = model(data)\n",
        "        \n",
        "        # Convert outputs to predicted classes\n",
        "        _, predicted = torch.max(outputs.data, 1)\n",
        "        \n",
        "        y_true.extend(label.cpu().numpy())\n",
        "        y_pred.extend(predicted.cpu().numpy())\n",
        "\n",
        "# Compute the metrics\n",
        "f1 = f1_score(y_true, y_pred, average='macro')\n",
        "bal_accuracy = balanced_accuracy_score(y_true, y_pred)\n",
        "recall = recall_score(y_true, y_pred, average='macro')\n",
        "precision = precision_score(y_true, y_pred, average='macro')\n",
        "\n",
        "print(f'F1 Score: {f1}')\n",
        "print(f'Balanced Accuracy: {bal_accuracy}')\n",
        "print(f'Recall: {recall}')\n",
        "print(f'Precision: {precision}')\n"
      ]
    }
  ],
  "metadata": {
    "colab": {
      "provenance": []
    },
    "kernelspec": {
      "display_name": "base",
      "language": "python",
      "name": "python3"
    },
    "language_info": {
      "codemirror_mode": {
        "name": "ipython",
        "version": 3
      },
      "file_extension": ".py",
      "mimetype": "text/x-python",
      "name": "python",
      "nbconvert_exporter": "python",
      "pygments_lexer": "ipython3",
      "version": "3.10.8"
    },
    "orig_nbformat": 4
  },
  "nbformat": 4,
  "nbformat_minor": 0
}
